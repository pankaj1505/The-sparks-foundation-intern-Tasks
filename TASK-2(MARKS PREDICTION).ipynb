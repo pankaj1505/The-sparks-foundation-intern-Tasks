{
 "cells": [
  {
   "cell_type": "markdown",
   "metadata": {
    "id": "3fhI8wTg4J7X"
   },
   "source": [
    "# Task 2 - Supervised Machine Learning"
   ]
  },
  {
   "cell_type": "markdown",
   "metadata": {
    "id": "RcdqWNJv4J7a"
   },
   "source": [
    "## Importing libraries"
   ]
  },
  {
   "cell_type": "code",
   "execution_count": 1,
   "metadata": {
    "id": "eX9ftGkj4J7c",
    "scrolled": true
   },
   "outputs": [],
   "source": [
    "import pandas as pd\n",
    "import numpy as np\n",
    "from matplotlib import pyplot as plt\n",
    "from sklearn import datasets, linear_model\n",
    "from sklearn.metrics import mean_squared_error\n",
    "%matplotlib inline"
   ]
  },
  {
   "cell_type": "markdown",
   "metadata": {
    "id": "XMlwf0kz4J7j"
   },
   "source": [
    "## Reading the data set"
   ]
  },
  {
   "cell_type": "code",
   "execution_count": 16,
   "metadata": {
    "colab": {
     "base_uri": "https://localhost:8080/",
     "height": 221
    },
    "id": "sWVY-Lkq4J7l",
    "outputId": "f7ea2deb-e7a8-4174-df73-2a561a5a8e5a"
   },
   "outputs": [
    {
     "name": "stdout",
     "output_type": "stream",
     "text": [
      "Data imported successfully\n",
      "    Hours  Scores\n",
      "0     2.5      21\n",
      "1     5.1      47\n",
      "2     3.2      27\n",
      "3     8.5      75\n",
      "4     3.5      30\n",
      "5     1.5      20\n",
      "6     9.2      88\n",
      "7     5.5      60\n",
      "8     8.3      81\n",
      "9     2.7      25\n",
      "10    7.7      85\n",
      "11    5.9      62\n",
      "12    4.5      41\n",
      "13    3.3      42\n",
      "14    1.1      17\n"
     ]
    }
   ],
   "source": [
    "data_url = 'http://bit.ly/w-data'\n",
    "print(\"Data imported successfully\")\n",
    "data = pd.read_csv(data_url)\n",
    "print(data.head(15))"
   ]
  },
  {
   "cell_type": "markdown",
   "metadata": {
    "id": "lsrxIT9a4J7s"
   },
   "source": [
    "## Visualising the relationship between the data"
   ]
  },
  {
   "cell_type": "code",
   "execution_count": 17,
   "metadata": {
    "colab": {
     "base_uri": "https://localhost:8080/",
     "height": 295
    },
    "id": "UFmlmINT4J7t",
    "outputId": "cbdb7c4b-652c-4485-914e-92d0671f8721"
   },
   "outputs": [
    {
     "data": {
      "image/png": "[encoded data removed]",
      "text/plain": [
       "<Figure size 432x288 with 1 Axes>"
      ]
     },
     "metadata": {
      "needs_background": "light"
     },
     "output_type": "display_data"
    }
   ],
   "source": [
    "data.plot(x=\"Hours\",y=\"Scores\", style=\"o\")\n",
    "plt.title(\"Hours-Percentage Graph\")\n",
    "plt.xlabel(\"Hours studied\")\n",
    "plt.ylabel(\"percentage score\")\n",
    "plt.show()"
   ]
  },
  {
   "cell_type": "markdown",
   "metadata": {
    "id": "kvxw4Q7J4J70"
   },
   "source": [
    "#### Its shows the positive linear relation between hours and percentage score."
   ]
  },
  {
   "cell_type": "markdown",
   "metadata": {
    "id": "y5CqPF5R4J75"
   },
   "source": [
    "## Prepairing data for testing and training"
   ]
  },
  {
   "cell_type": "markdown",
   "metadata": {
    "id": "UG-eeLcy4J76"
   },
   "source": [
    "Now Divide the data into attributed(input) and label (outputs)"
   ]
  },
  {
   "cell_type": "code",
   "execution_count": 18,
   "metadata": {
    "id": "CdYyxBga4J77"
   },
   "outputs": [],
   "source": [
    "from sklearn.model_selection import train_test_split"
   ]
  },
  {
   "cell_type": "code",
   "execution_count": 19,
   "metadata": {
    "id": "WVkh7q7d4J8C"
   },
   "outputs": [],
   "source": [
    "x=data.iloc[:,:-1].values\n",
    "y=data.iloc[:, 1].values"
   ]
  },
  {
   "cell_type": "code",
   "execution_count": 20,
   "metadata": {
    "id": "UvFqAL0j4J8I"
   },
   "outputs": [],
   "source": [
    "x_train,x_test,y_train,y_test=train_test_split(x,y,test_size=0.3,random_state=0)"
   ]
  },
  {
   "cell_type": "markdown",
   "metadata": {
    "id": "pfuT78W54J8Q"
   },
   "source": [
    "## Model Tranning"
   ]
  },
  {
   "cell_type": "code",
   "execution_count": 21,
   "metadata": {
    "colab": {
     "base_uri": "https://localhost:8080/",
     "height": 34
    },
    "id": "l9TokEA54J8R",
    "outputId": "a76d19e2-748b-4902-e468-8b5b8bf3023d"
   },
   "outputs": [
    {
     "name": "stdout",
     "output_type": "stream",
     "text": [
      "Training complete.\n"
     ]
    }
   ],
   "source": [
    "from sklearn.linear_model import LinearRegression  \n",
    "regressor = LinearRegression()  \n",
    "regressor.fit(x_train, y_train) \n",
    "\n",
    "print(\"Training complete.\")"
   ]
  },
  {
   "cell_type": "markdown",
   "metadata": {
    "id": "NtWG_JQR4J8Y"
   },
   "source": [
    "## Plotting the Regression Line"
   ]
  },
  {
   "cell_type": "code",
   "execution_count": 22,
   "metadata": {
    "colab": {
     "base_uri": "https://localhost:8080/",
     "height": 265
    },
    "id": "nrRfdQvF4J8a",
    "outputId": "53a316e0-5ad9-42bb-976b-ed0d2ee6eb1e"
   },
   "outputs": [
    {
     "data": {
      "image/png": "[encoded data removed]",
      "text/plain": [
       "<Figure size 432x288 with 1 Axes>"
      ]
     },
     "metadata": {
      "needs_background": "light"
     },
     "output_type": "display_data"
    }
   ],
   "source": [
    " regression_line = regressor.coef_*x+regressor.intercept_\n",
    "b=plt.scatter(x, y)\n",
    "b.set_facecolor('xkcd:salmon')\n",
    "plt.plot(x, regression_line)\n",
    "plt.show()"
   ]
  },
  {
   "cell_type": "markdown",
   "metadata": {
    "id": "GAuh4KBo4J8g"
   },
   "source": [
    "## Prediction of data"
   ]
  },
  {
   "cell_type": "code",
   "execution_count": 23,
   "metadata": {
    "colab": {
     "base_uri": "https://localhost:8080/",
     "height": 153
    },
    "id": "PS8HetNV4J8h",
    "outputId": "f6c1494b-ad97-4ed7-8218-27e4ece852b5"
   },
   "outputs": [
    {
     "name": "stdout",
     "output_type": "stream",
     "text": [
      "data for testing= [[1.5]\n",
      " [3.2]\n",
      " [7.4]\n",
      " [2.5]\n",
      " [5.9]\n",
      " [3.8]\n",
      " [1.9]\n",
      " [7.8]]\n"
     ]
    }
   ],
   "source": [
    "print(\"data for testing=\", x_test)\n",
    "data_pred=regressor.predict(x_test)"
   ]
  },
  {
   "cell_type": "code",
   "execution_count": 24,
   "metadata": {
    "colab": {
     "base_uri": "https://localhost:8080/",
     "height": 170
    },
    "id": "QZ8UzTh44J8n",
    "outputId": "03a35124-2c07-4b61-9724-f89436ac8b6f"
   },
   "outputs": [
    {
     "name": "stdout",
     "output_type": "stream",
     "text": [
      "   Actual  Predicted\n",
      "0      20  17.053665\n",
      "1      27  33.694229\n",
      "2      69  74.806209\n",
      "3      30  26.842232\n",
      "4      62  60.123359\n",
      "5      35  39.567369\n",
      "6      24  20.969092\n",
      "7      86  78.721636\n"
     ]
    }
   ],
   "source": [
    "# Comparing the actual and predicted data\n",
    "df = pd.DataFrame({'Actual': y_test, 'Predicted': data_pred})\n",
    "print(df)"
   ]
  },
  {
   "cell_type": "markdown",
   "metadata": {
    "id": "fqt3PrtK4J8v"
   },
   "source": [
    "## Testing the data"
   ]
  },
  {
   "cell_type": "code",
   "execution_count": 25,
   "metadata": {
    "colab": {
     "base_uri": "https://localhost:8080/",
     "height": 68
    },
    "id": "cnqQ46574J8w",
    "outputId": "00cb3b87-2465-41de-e1f5-fee3420a2647"
   },
   "outputs": [
    {
     "name": "stdout",
     "output_type": "stream",
     "text": [
      "no of hours studied=[[9.25]]\n",
      "predicted score=92.91505723477056\n",
      "0.9568211104435257\n"
     ]
    }
   ],
   "source": [
    "hours_studied=[[9.25]]\n",
    "prediction = regressor.predict(hours_studied)\n",
    "print(\"no of hours studied={}\".format(hours_studied))\n",
    "print(\"predicted score={}\".format(prediction[0]))\n",
    "print(regressor.score(x_test,y_test))"
   ]
  },
  {
   "cell_type": "markdown",
   "metadata": {
    "id": "LMjaeAkX4J82"
   },
   "source": [
    "## Evaluating Model"
   ]
  },
  {
   "cell_type": "code",
   "execution_count": 26,
   "metadata": {
    "colab": {
     "base_uri": "https://localhost:8080/",
     "height": 34
    },
    "id": "33v0skQx4J83",
    "outputId": "81129380-d0aa-4e70-89ac-79d4e3573cef"
   },
   "outputs": [
    {
     "name": "stdout",
     "output_type": "stream",
     "text": [
      "mean absolute error= 4.4197278080276545\n"
     ]
    }
   ],
   "source": [
    "from sklearn import metrics\n",
    "print('mean absolute error=', metrics.mean_absolute_error(y_test,data_pred))"
   ]
  },
  {
   "cell_type": "code",
   "execution_count": 27,
   "metadata": {
    "colab": {
     "base_uri": "https://localhost:8080/",
     "height": 34
    },
    "id": "_e4mT83v4J8-",
    "outputId": "ce81b348-2ded-4609-96e4-23ea9940d4aa"
   },
   "outputs": [
    {
     "name": "stdout",
     "output_type": "stream",
     "text": [
      "mean squared error= 22.96509721270044\n"
     ]
    }
   ],
   "source": [
    "print('mean squared error=', metrics.mean_squared_error(y_test,data_pred))"
   ]
  },
  {
   "cell_type": "code",
   "execution_count": null,
   "metadata": {
    "id": "kwl9tCyR4J9E"
   },
   "outputs": [],
   "source": []
  },
  {
   "cell_type": "markdown",
   "metadata": {
    "id": "nJz5puId5Gaw"
   },
   "source": [
    "# TASK 2 COMPLETED BY PANKAJ KUMAR\n",
    "\n",
    "\n"
   ]
  }
 ],
 "metadata": {
  "colab": {
   "name": "task 2(marks Prediction) (1).ipynb",
   "provenance": []
  },
  "kernelspec": {
   "display_name": "Python 3",
   "language": "python",
   "name": "python3"
  },
  "language_info": {
   "codemirror_mode": {
    "name": "ipython",
    "version": 3
   },
   "file_extension": ".py",
   "mimetype": "text/x-python",
   "name": "python",
   "nbconvert_exporter": "python",
   "pygments_lexer": "ipython3",
   "version": "3.7.4"
  }
 },
 "nbformat": 4,
 "nbformat_minor": 1
}
